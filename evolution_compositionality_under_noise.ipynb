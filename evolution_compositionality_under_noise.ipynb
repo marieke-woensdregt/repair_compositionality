{
 "cells": [
  {
   "cell_type": "markdown",
   "metadata": {},
   "source": [
    "# The evolution of compositionality under environmental noise\n",
    "\n",
    "\n",
    "\n",
    "### Bigger picture:\n",
    "\n",
    "**We hypothesise that** other-initiated repair and a compositional language co-evolve under the following assumptions:\n",
    "\n",
    "1. There is a pressure for communicative success\n",
    "    2. Understanding part of the meaning is better than understanding none of it\n",
    "3. There is a pressure to make repair sequences as efficient as possible (in terms of utterance length)\n",
    "    4. Listeners have at least two types of repair initiator at their disposal: (i) open request, and (ii) closed request\n",
    "    \n",
    "This hypothesis is based on the idea that \n",
    "\n",
    "\n",
    "\n",
    "### Step 1: Adding noise to existing model of evolution of compositional language\n",
    "\n",
    "Here we adapt the model of Kirby et al. (2015)---where they show that a compositional language evolves when there is a pressure for both (i) learnability and (ii) expressivity---to incorporate noise.\n",
    "\n",
    "\n",
    "\n",
    "\n",
    "#### References  \n",
    "Kirby, S., Tamariz, M., Cornish, H., & Smith, K. (2015). Compression and communication in the cultural evolution of linguistic structure. Cognition, 141, 87–102. https://doi.org/10.1016/j.cognition.2015.03.016"
   ]
  },
  {
   "cell_type": "markdown",
   "metadata": {
    "collapsed": true
   },
   "source": [
    "## Production in the Kirby et al. (2015) model:\n",
    "\n",
    "$$\n",
    "P(f \\mid l, t) \\propto \\Bigg\\{\n",
    "\\begin{array}{ll}\n",
    "(\\frac{1}{a})^\\gamma \\, (1-\\epsilon) \\; \\; \\textrm{if} \\; t \\; \\textrm{is mapped to} \\; f \\; \\textrm{in} \\; l\\\\ \n",
    "\\frac{\\epsilon}{|F|-1} \\quad \\quad \\quad \\textrm{if} \\; t \\; \\textrm{is not mapped to} \\; f \\; \\textrm{in} \\; l\n",
    "\\end{array}\n",
    "$$\n",
    "\n",
    "where $f$ stands for form (in the sense of a complete signal, such as *aa*), $l$ stands for language, $t$ stands for topic, and $\\epsilon$ stands for production error."
   ]
  },
  {
   "cell_type": "markdown",
   "metadata": {
    "collapsed": true
   },
   "source": [
    "## How do we add *environmental* noise to this production model?\n",
    "\n",
    "\n",
    "If we leave Kirby et al.'s production error aside for a moment, we could add environmental noise by allowing production to have two possible outcomes. Given a particular topic *t*, a speaker could produce either:\n",
    "- form $f$ if $t$ is mapped to $f$ in $l$, with probability $1-n$\n",
    "- form $f'$, where $f'$ is a 'noisy variant' of $f$ *and* $t$ is mapped to $f$ in $l$. This should happen with probability $\\frac{1}{|F'|}$ (where $F'$ is the full set of possible noisy variants of the form $f$ that maps to $t$ in $l$\n",
    "\n",
    "where $n$ stands for the probability of noise happening.\n",
    "\n",
    "To give an example, using the example compositional grammar of Kirby et al. (2015):\n",
    "\n",
    "S   --> A B   \n",
    "A:0 --> a   \n",
    "A:1 --> b   \n",
    "B:2 --> a   \n",
    "B:3 --> b   \n",
    "\n",
    "Given this grammar, the only form that maps to topic 02 is *aa*.   \n",
    "**Design decision:** If we allow for both 'partial' and 'full' noise,   \n",
    " this form has three possible noisy variants:\n",
    "- a_\n",
    "- _a\n",
    "- \\__\n",
    "\n",
    "where _ stands for a noisy part of the signal that the listener could not perceive.\n",
    "\n",
    "So if 02 is the speaker's intended topic (and if we exclude the possibility of the speaker making a production error for now), they will produce the following signals with the following probabilities:\n",
    "- aa with probability $1-n$\n",
    "- [a_, _a, \\__ \\] with probability $\\frac{n}{3}$ (because there are 3 possible noisy variants\n",
    "\n",
    "\n",
    "**Design decision:** should noisy variant \\__ be less likely than other noisy variants, because it means that really *none* of the signal came through? Intuitively it would make sense if a_ was twice as likely to happen as \\__, but that would make it a bit trickier to work out the probabilities for the different noisy variants. So to keep it simple I propose making all the noisy variants equally probable.\n",
    "\n",
    "\n",
    "\n",
    "\n",
    "$$\n",
    "P(f \\mid l, t) \\propto \\Bigg\\{\n",
    "\\begin{array}{ll}\n",
    "(\\frac{1}{a})^\\gamma \\, (1-\\epsilon) \\, (1-n) \\; \\; \\textrm{if} \\; t \\; \\textrm{is mapped to} \\; f \\; \\textrm{in} \\; l \\; \\textrm{and} \\; f \\; \\textrm{is intact} \\\\ \n",
    "(\\frac{1}{a})^\\gamma \\, (1-\\epsilon) \\, n \\quad \\quad \\; \\; \\textrm{if part of} \\; t \\; \\textrm{is mapped to} \\; f \\; \\textrm{in} \\; l \\; \\textrm{and} \\; f \\; \\textrm{is not intact} \\\\ \n",
    "\\frac{\\epsilon}{|F|-1} \\, (1-n) \\quad \\quad \\quad \\textrm{if} \\; t \\; \\textrm{is not mapped to} \\; f \\; \\textrm{in} \\; l \\; \\textrm{and} \\; f \\; \\textrm{is intact}\\\\\n",
    "\\frac{\\epsilon}{|F|-1} \\, n \\quad \\quad \\quad \\quad \\quad \\textrm{if no part of} \\; t \\; \\textrm{is mapped to} \\; f \\; \\textrm{in} \\; l \\; \\textrm{and} \\; f \\; \\textrm{is not intact}\\\\\n",
    "\\end{array}\n",
    "$$\n",
    "\n",
    "where *n* stands for the probability of noise."
   ]
  },
  {
   "cell_type": "markdown",
   "metadata": {},
   "source": [
    "### First, let's reproduce Kirby et al.'s (2015) model of production:"
   ]
  },
  {
   "cell_type": "markdown",
   "metadata": {},
   "source": [
    "In order to do that we first need to set some general parameters:"
   ]
  },
  {
   "cell_type": "code",
   "execution_count": 22,
   "metadata": {
    "collapsed": true
   },
   "outputs": [],
   "source": [
    "meanings = ['02', '03', '12', '13'] # all possible meanings\n",
    "forms = ['aa', 'ab', 'ba', 'bb'] # all possible forms\n",
    "error = 0.05 # the probability of making a production error"
   ]
  },
  {
   "cell_type": "markdown",
   "metadata": {},
   "source": [
    "Then we need some functions to generate all possible languages and classify languages according to the categories specified by Kirby et al. (2015:"
   ]
  },
  {
   "cell_type": "code",
   "execution_count": 27,
   "metadata": {},
   "outputs": [
    {
     "name": "stdout",
     "output_type": "stream",
     "text": [
      "all_possible_languages are:\n",
      "[('aa', 'aa', 'aa', 'aa'), ('aa', 'aa', 'aa', 'ab'), ('aa', 'aa', 'aa', 'ba'), ('aa', 'aa', 'aa', 'bb'), ('aa', 'aa', 'ab', 'ab'), ('aa', 'aa', 'ab', 'ba'), ('aa', 'aa', 'ab', 'bb'), ('aa', 'aa', 'ba', 'ba'), ('aa', 'aa', 'ba', 'bb'), ('aa', 'aa', 'bb', 'bb'), ('aa', 'ab', 'ab', 'ab'), ('aa', 'ab', 'ab', 'ba'), ('aa', 'ab', 'ab', 'bb'), ('aa', 'ab', 'ba', 'ba'), ('aa', 'ab', 'ba', 'bb'), ('aa', 'ab', 'bb', 'bb'), ('aa', 'ba', 'ba', 'ba'), ('aa', 'ba', 'ba', 'bb'), ('aa', 'ba', 'bb', 'bb'), ('aa', 'bb', 'bb', 'bb'), ('ab', 'ab', 'ab', 'ab'), ('ab', 'ab', 'ab', 'ba'), ('ab', 'ab', 'ab', 'bb'), ('ab', 'ab', 'ba', 'ba'), ('ab', 'ab', 'ba', 'bb'), ('ab', 'ab', 'bb', 'bb'), ('ab', 'ba', 'ba', 'ba'), ('ab', 'ba', 'ba', 'bb'), ('ab', 'ba', 'bb', 'bb'), ('ab', 'bb', 'bb', 'bb'), ('ba', 'ba', 'ba', 'ba'), ('ba', 'ba', 'ba', 'bb'), ('ba', 'ba', 'bb', 'bb'), ('ba', 'bb', 'bb', 'bb'), ('bb', 'bb', 'bb', 'bb')]\n",
      "number of possible languages is:\n",
      "35\n",
      "\n",
      "degenerate_lang is:\n",
      "('aa', 'aa', 'aa', 'aa')\n",
      "class_degenerate_lang is:\n",
      "degenerate\n",
      "\n",
      "compositional_lang is:\n",
      "('aa', 'ab', 'ba', 'bb')\n",
      "class_compositional_lang is:\n",
      "compositional\n",
      "\n",
      "holistic_lang is:\n",
      "('aa', 'ab', 'bb', 'ba')\n",
      "class_holistic_lang is:\n",
      "holistic\n",
      "\n",
      "other_lang is:\n",
      "('aa', 'aa', 'aa', 'ab')\n",
      "class_other_lang is:\n",
      "other\n"
     ]
    }
   ],
   "source": [
    "import itertools\n",
    "\n",
    "def create_all_possible_languages(meanings, forms):\n",
    "    \"\"\"Creates all possible languages\n",
    "\n",
    "    :param meanings: list of strings corresponding to all possible meanings\n",
    "    :type meanings: list\n",
    "    :param forms: list of strings corresponding to all possible forms\n",
    "    :type forms: list\n",
    "    :returns: list of tuples which represent languages, where each tuple consists of forms and has length len(meanings)\n",
    "    :rtype: list\n",
    "    \"\"\"\n",
    "    all_possible_languages = list(itertools.combinations_with_replacement(forms, len(meanings)))\n",
    "    return all_possible_languages\n",
    "\n",
    "\n",
    "def classify_language(lang, forms, meanings):\n",
    "    \"\"\"\n",
    "    Classify a given language as either 'compositional', 'holistic', 'degenerate' or 'other' (Kirby et al., 2015)\n",
    "\n",
    "    :param lang: a language; represented as a tuple of forms, where each form index maps to same index in meanings\n",
    "    :type lang: tuple\n",
    "    :param forms: list of strings corresponding to all possible forms\n",
    "    :type forms: list\n",
    "    :returns: the category that the language falls into\n",
    "    :rtype: str\n",
    "    \"\"\"\n",
    "    #TODO: See if I can modify this function so that it can deal with any number of forms and meanings.\n",
    "    # First check whether some conditions are met, bc this function hasn't been coded up in the most general way yet:\n",
    "    if len(forms) != 4:\n",
    "        raise ValueError(\"This function only works for a world in which there are 4 possible forms\")\n",
    "    if len(forms[0]) != 2:\n",
    "        raise ValueError(\"This function only works when each form consists of 2 elements\")\n",
    "    if len(lang) != len(meanings):\n",
    "        raise ValueError(\"Lang should have same length as meanings\")\n",
    "        \n",
    "    # lang is degenerate if it uses the same form for every meaning:\n",
    "    if lang[0] == lang[1] and lang[1] == lang[2] and lang[2] == lang[3]:\n",
    "        return 'degenerate'\n",
    "        \n",
    "    # lang is compositional if it's *not* degenerate, and each form element maps to the same meaning element for each form:\n",
    "    elif lang[0][0] == lang[1][0] and lang[2][0] == lang[3][0] and lang[0][1] == lang[2][1] and lang[1][1] == lang[3][1]:\n",
    "        return 'compositional'\n",
    "    \n",
    "    # lang is holistic if it is *not* compositional, but *does* make us of all possible forms:\n",
    "    elif forms[0] in lang and forms[1] in lang and forms[2] in lang and forms[3] in lang:\n",
    "        return 'holistic'\n",
    "    \n",
    "    # In all other cases, a language belongs to the 'other' category:\n",
    "    else:\n",
    "        return 'other'\n",
    "        \n",
    "    \n",
    "    \n",
    "# Let's try out our create_all_possible_languages() function:\n",
    "all_possible_languages = create_all_possible_languages(meanings, forms)\n",
    "print(\"all_possible_languages are:\")\n",
    "print(all_possible_languages)\n",
    "print(\"number of possible languages is:\")\n",
    "print(len(all_possible_languages))\n",
    "\n",
    "\n",
    "# Let's test our classify_language() function using some example languages from the Kirby et al. (2015) paper:\n",
    "degenerate_lang = ('aa', 'aa', 'aa', 'aa')\n",
    "print('')\n",
    "print(\"degenerate_lang is:\")\n",
    "print(degenerate_lang)\n",
    "class_degenerate_lang = classify_language(degenerate_lang, forms, meanings)\n",
    "print(\"class_degenerate_lang is:\")\n",
    "print(class_degenerate_lang)\n",
    "\n",
    "compositional_lang = ('aa', 'ab', 'ba', 'bb')\n",
    "print('')\n",
    "print(\"compositional_lang is:\")\n",
    "print(compositional_lang)\n",
    "class_compositional_lang = classify_language(compositional_lang, forms, meanings)\n",
    "print(\"class_compositional_lang is:\")\n",
    "print(class_compositional_lang)\n",
    "\n",
    "holistic_lang = ('aa', 'ab', 'bb', 'ba')\n",
    "print('')\n",
    "print(\"holistic_lang is:\")\n",
    "print(holistic_lang)\n",
    "class_holistic_lang = classify_language(holistic_lang, forms, meanings)\n",
    "print(\"class_holistic_lang is:\")\n",
    "print(class_holistic_lang)\n",
    "\n",
    "other_lang = ('aa', 'aa', 'aa', 'ab')\n",
    "print('')\n",
    "print(\"other_lang is:\")\n",
    "print(other_lang)\n",
    "class_other_lang = classify_language(other_lang, forms, meanings)\n",
    "print(\"class_other_lang is:\")\n",
    "print(class_other_lang)"
   ]
  },
  {
   "cell_type": "markdown",
   "metadata": {
    "collapsed": true
   },
   "source": [
    "Now let's implement the actual production function. Here is the equation from Kirby et al. (2015) again:\n",
    "\n",
    "$$\n",
    "P(f \\mid l, t) \\propto \\Bigg\\{\n",
    "\\begin{array}{ll}\n",
    "(\\frac{1}{a})^\\gamma \\, (1-\\epsilon) \\; \\; \\textrm{if} \\; t \\; \\textrm{is mapped to} \\; f \\; \\textrm{in} \\; l\\\\ \n",
    "\\frac{\\epsilon}{|F|-1} \\quad \\quad \\quad \\textrm{if} \\; t \\; \\textrm{is not mapped to} \\; f \\; \\textrm{in} \\; l\n",
    "\\end{array}\n",
    "$$\n",
    "\n",
    "where $f$ stands for form (in the sense of a complete signal, such as *aa*), $l$ stands for language, $t$ stands for topic, and $\\epsilon$ stands for production error."
   ]
  },
  {
   "cell_type": "code",
   "execution_count": 29,
   "metadata": {},
   "outputs": [
    {
     "name": "stdout",
     "output_type": "stream",
     "text": [
      "\n",
      "This is the production() function at work:\n",
      "\n",
      "language is:\n",
      "('aa', 'ab', 'ba', 'bb')\n",
      "\n",
      "meanings are:\n",
      "['02', '03', '12', '13']\n",
      "\n",
      "topic_index is:\n",
      "0\n",
      "correct_form is:\n",
      "aa\n",
      "error_forms is:\n",
      "['ab', 'ba', 'bb']\n",
      "Check that removing the correct form didn't mess up the language:\n",
      "language is:\n",
      "('aa', 'ab', 'ba', 'bb')\n"
     ]
    }
   ],
   "source": [
    "def production(language, topic):\n",
    "    print('')\n",
    "    print('This is the production() function at work:')\n",
    "    print('')\n",
    "    print(\"language is:\")\n",
    "    print(language)\n",
    "    print('')\n",
    "    print(\"meanings are:\")\n",
    "    print(meanings)\n",
    "    for m in range(len(meanings)):\n",
    "        if meanings[m] == topic:\n",
    "            topic_index = m\n",
    "    print('')\n",
    "    print(\"topic_index is:\")\n",
    "    print(topic_index)\n",
    "    correct_form = language[topic_index]\n",
    "    print(\"correct_form is:\")\n",
    "    print(correct_form)\n",
    "    error_forms = list(language)\n",
    "    error_forms.remove(correct_form)\n",
    "    print(\"error_forms is:\")\n",
    "    print(error_forms)\n",
    "    print(\"Check that removing the correct form didn't mess up the language:\")\n",
    "    print(\"language is:\")\n",
    "    print(language)\n",
    "    \n",
    "\n",
    "\n",
    "production(compositional_lang, \"02\")"
   ]
  },
  {
   "cell_type": "code",
   "execution_count": null,
   "metadata": {
    "collapsed": true
   },
   "outputs": [],
   "source": []
  }
 ],
 "metadata": {
  "kernelspec": {
   "display_name": "p37workshop",
   "language": "python",
   "name": "p37workshop"
  },
  "language_info": {
   "codemirror_mode": {
    "name": "ipython",
    "version": 2
   },
   "file_extension": ".py",
   "mimetype": "text/x-python",
   "name": "python",
   "nbconvert_exporter": "python",
   "pygments_lexer": "ipython2",
   "version": "2.7.14"
  }
 },
 "nbformat": 4,
 "nbformat_minor": 2
}
